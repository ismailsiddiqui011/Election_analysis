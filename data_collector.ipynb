{
 "cells": [
  {
   "cell_type": "code",
   "execution_count": 1,
   "metadata": {},
   "outputs": [],
   "source": [
    "import pandas as pd\n",
    "import numpy as np\n",
    "from tqdm import tqdm\n",
    "import time\n",
    "from selenium.webdriver import Chrome\n",
    "from selenium.webdriver.common.keys import Keys\n",
    "from webdriver_manager.chrome import ChromeDriverManager\n",
    "import time, os\n",
    "from selenium import webdriver\n",
    "from selenium.webdriver.common.keys import Keys"
   ]
  },
  {
   "cell_type": "code",
   "execution_count": 224,
   "metadata": {
    "scrolled": true
   },
   "outputs": [
    {
     "name": "stderr",
     "output_type": "stream",
     "text": [
      "100%|████████████████████████████████████████████████████████████████████████████████| 200/200 [07:48<00:00,  2.34s/it]\n"
     ]
    },
    {
     "name": "stdout",
     "output_type": "stream",
     "text": [
      "(2602, 2)\n",
      "File Saved...\n"
     ]
    },
    {
     "name": "stderr",
     "output_type": "stream",
     "text": [
      "100%|████████████████████████████████████████████████████████████████████████████████| 200/200 [06:47<00:00,  2.04s/it]\n"
     ]
    },
    {
     "name": "stdout",
     "output_type": "stream",
     "text": [
      "(875, 2)\n",
      "File Saved...\n"
     ]
    },
    {
     "name": "stderr",
     "output_type": "stream",
     "text": [
      "100%|████████████████████████████████████████████████████████████████████████████████| 200/200 [07:17<00:00,  2.19s/it]\n"
     ]
    },
    {
     "name": "stdout",
     "output_type": "stream",
     "text": [
      "(2067, 2)\n",
      "File Saved...\n"
     ]
    },
    {
     "name": "stderr",
     "output_type": "stream",
     "text": [
      "100%|████████████████████████████████████████████████████████████████████████████████| 200/200 [07:34<00:00,  2.27s/it]\n"
     ]
    },
    {
     "name": "stdout",
     "output_type": "stream",
     "text": [
      "(2054, 2)\n",
      "File Saved...\n"
     ]
    },
    {
     "name": "stderr",
     "output_type": "stream",
     "text": [
      "100%|████████████████████████████████████████████████████████████████████████████████| 200/200 [06:47<00:00,  2.04s/it]\n"
     ]
    },
    {
     "name": "stdout",
     "output_type": "stream",
     "text": [
      "(29, 2)\n",
      "File Saved...\n"
     ]
    },
    {
     "name": "stderr",
     "output_type": "stream",
     "text": [
      "100%|████████████████████████████████████████████████████████████████████████████████| 200/200 [06:49<00:00,  2.05s/it]\n"
     ]
    },
    {
     "name": "stdout",
     "output_type": "stream",
     "text": [
      "(342, 2)\n",
      "File Saved...\n"
     ]
    },
    {
     "name": "stderr",
     "output_type": "stream",
     "text": [
      "100%|████████████████████████████████████████████████████████████████████████████████| 200/200 [06:47<00:00,  2.04s/it]\n"
     ]
    },
    {
     "name": "stdout",
     "output_type": "stream",
     "text": [
      "(148, 2)\n",
      "File Saved...\n"
     ]
    },
    {
     "name": "stderr",
     "output_type": "stream",
     "text": [
      "100%|████████████████████████████████████████████████████████████████████████████████| 200/200 [06:47<00:00,  2.04s/it]\n"
     ]
    },
    {
     "name": "stdout",
     "output_type": "stream",
     "text": [
      "(493, 2)\n",
      "File Saved...\n"
     ]
    },
    {
     "name": "stderr",
     "output_type": "stream",
     "text": [
      "100%|████████████████████████████████████████████████████████████████████████████████| 200/200 [06:47<00:00,  2.04s/it]\n"
     ]
    },
    {
     "name": "stdout",
     "output_type": "stream",
     "text": [
      "(60, 2)\n",
      "File Saved...\n"
     ]
    },
    {
     "name": "stderr",
     "output_type": "stream",
     "text": [
      "100%|████████████████████████████████████████████████████████████████████████████████| 200/200 [07:22<00:00,  2.21s/it]\n"
     ]
    },
    {
     "name": "stdout",
     "output_type": "stream",
     "text": [
      "(2140, 2)\n",
      "File Saved...\n"
     ]
    }
   ],
   "source": [
    "chrome_path = r'C:/Program Files/chromedriver.exe'\n",
    "url_list = ['https://www.youtube.com/watch?v=KBjdcK1kcl0', 'https://www.youtube.com/watch?v=FTJ2iPHxGU8',\n",
    "             'https://www.youtube.com/watch?v=YDMcAI3mkIg', 'https://www.youtube.com/watch?v=hTWYU5l4UXo', \n",
    "            'https://www.youtube.com/watch?v=7d45v1MMFQg', 'https://www.youtube.com/watch?v=iS5OUwPNSdc',\n",
    "            'https://www.youtube.com/watch?v=7E5453TmDr4', 'https://www.youtube.com/watch?v=4ermxYNmE7w',\n",
    "            'https://www.youtube.com/watch?v=jMOMnwsg0cM', 'https://www.youtube.com/watch?v=5d8j1JN27cE']\n",
    "comment_list, like_list = [], []\n",
    "for page_url in url_list:\n",
    "    if page_url.split('=')[-1] in os.listdir(r'E:\\Project_FireStorm_Data\\Akhilesh_Data'):\n",
    "        continue\n",
    "    else:\n",
    "        driver = Chrome(executable_path = chrome_path)\n",
    "        driver.get(page_url)\n",
    "        time.sleep(2)  \n",
    "\n",
    "        SCROLL_PAUSE_TIME = 2\n",
    "\n",
    "        html = driver.find_element_by_tag_name('html')\n",
    "        for i in tqdm(range(200)):\n",
    "            html.send_keys(Keys.END)\n",
    "            time.sleep(SCROLL_PAUSE_TIME)\n",
    "\n",
    "        comments = driver.find_elements_by_xpath('//*[@id=\"content-text\"]')\n",
    "        comments = [elem.text for elem in comments]\n",
    "        likes = driver.find_elements_by_id('vote-count-middle') \n",
    "        likes = [elem.text for elem in likes]\n",
    "        driver.close()\n",
    "\n",
    "        data = pd.DataFrame(np.stack([comments, likes], 1), columns = ['comments', 'likes'])\n",
    "        print(data.shape)\n",
    "        name = page_url.split('=')[-1]\n",
    "        path = f'E:\\Project_FireStorm_Data\\Akhilesh_Data/{name}.csv'\n",
    "        data.to_csv(path, index = False)\n",
    "        print('File Saved...')"
   ]
  },
  {
   "cell_type": "code",
   "execution_count": 225,
   "metadata": {
    "scrolled": true
   },
   "outputs": [
    {
     "name": "stderr",
     "output_type": "stream",
     "text": [
      " 10%|████████                                                                        | 1/10 [09:03<1:21:33, 543.68s/it]"
     ]
    },
    {
     "name": "stdout",
     "output_type": "stream",
     "text": [
      "(2198, 2)\n",
      "File Saved...\n"
     ]
    },
    {
     "name": "stderr",
     "output_type": "stream",
     "text": [
      "\r",
      " 20%|████████████████                                                                | 2/10 [17:15<1:08:26, 513.34s/it]"
     ]
    },
    {
     "name": "stdout",
     "output_type": "stream",
     "text": [
      "(1489, 2)\n",
      "File Saved...\n"
     ]
    },
    {
     "name": "stderr",
     "output_type": "stream",
     "text": [
      "\r",
      " 30%|████████████████████████▌                                                         | 3/10 [24:14<54:49, 469.92s/it]"
     ]
    },
    {
     "name": "stdout",
     "output_type": "stream",
     "text": [
      "(217, 2)\n",
      "File Saved...\n"
     ]
    },
    {
     "name": "stderr",
     "output_type": "stream",
     "text": [
      "\r",
      " 40%|████████████████████████████████▊                                                 | 4/10 [31:09<44:51, 448.52s/it]"
     ]
    },
    {
     "name": "stdout",
     "output_type": "stream",
     "text": [
      "(107, 2)\n",
      "File Saved...\n"
     ]
    },
    {
     "name": "stderr",
     "output_type": "stream",
     "text": [
      "\r",
      " 50%|█████████████████████████████████████████                                         | 5/10 [38:08<36:29, 437.94s/it]"
     ]
    },
    {
     "name": "stdout",
     "output_type": "stream",
     "text": [
      "(34, 2)\n",
      "File Saved...\n"
     ]
    },
    {
     "name": "stderr",
     "output_type": "stream",
     "text": [
      "\r",
      " 60%|█████████████████████████████████████████████████▏                                | 6/10 [45:17<28:58, 434.72s/it]"
     ]
    },
    {
     "name": "stdout",
     "output_type": "stream",
     "text": [
      "(225, 2)\n",
      "File Saved...\n"
     ]
    },
    {
     "name": "stderr",
     "output_type": "stream",
     "text": [
      "\r",
      " 70%|█████████████████████████████████████████████████████████▍                        | 7/10 [52:24<21:36, 432.28s/it]"
     ]
    },
    {
     "name": "stdout",
     "output_type": "stream",
     "text": [
      "(443, 2)\n",
      "File Saved...\n"
     ]
    },
    {
     "name": "stderr",
     "output_type": "stream",
     "text": [
      "\r",
      " 80%|█████████████████████████████████████████████████████████████████▌                | 8/10 [59:18<14:13, 426.52s/it]"
     ]
    },
    {
     "name": "stdout",
     "output_type": "stream",
     "text": [
      "(84, 2)\n",
      "File Saved...\n"
     ]
    },
    {
     "name": "stderr",
     "output_type": "stream",
     "text": [
      "\r",
      " 90%|████████████████████████████████████████████████████████████████████████        | 9/10 [1:06:11<07:02, 422.24s/it]"
     ]
    },
    {
     "name": "stdout",
     "output_type": "stream",
     "text": [
      "(52, 2)\n",
      "File Saved...\n"
     ]
    },
    {
     "name": "stderr",
     "output_type": "stream",
     "text": [
      "100%|███████████████████████████████████████████████████████████████████████████████| 10/10 [1:13:27<00:00, 440.79s/it]"
     ]
    },
    {
     "name": "stdout",
     "output_type": "stream",
     "text": [
      "(707, 2)\n",
      "File Saved...\n"
     ]
    },
    {
     "name": "stderr",
     "output_type": "stream",
     "text": [
      "\n"
     ]
    }
   ],
   "source": [
    "url_list = ['https://www.youtube.com/watch?v=J-26hV1bg_s', 'https://www.youtube.com/watch?v=Z168NcFMlUQ',\n",
    "           'https://www.youtube.com/watch?v=ILOCVcO3qxU', 'https://www.youtube.com/watch?v=Ac1qJ5R7Aow',\n",
    "           'https://www.youtube.com/watch?v=FGIKQdKCqTA', 'https://www.youtube.com/watch?v=a3rTcSDJ8PM',\n",
    "           'https://www.youtube.com/watch?v=qv6yozFIBxQ', 'https://www.youtube.com/watch?v=sAMHNjHdV14',\n",
    "           'https://www.youtube.com/watch?v=fAElMPBLlzY', 'https://www.youtube.com/watch?v=UxAXN0jd_rg']\n",
    "comment_list, like_list = [], []\n",
    "for page_url in tqdm(url_list):\n",
    "    if page_url.split('=')[-1] in os.listdir(r'E:\\Project_FireStorm_Data\\Yogi_Data'):\n",
    "        continue\n",
    "    else:\n",
    "        driver = Chrome(executable_path = chrome_path)\n",
    "        driver.get(page_url)\n",
    "        time.sleep(2)  \n",
    "\n",
    "        SCROLL_PAUSE_TIME = 2\n",
    "\n",
    "        html = driver.find_element_by_tag_name('html')\n",
    "        for i in (range(200)):\n",
    "            html.send_keys(Keys.END)\n",
    "            time.sleep(SCROLL_PAUSE_TIME)\n",
    "\n",
    "        comments = driver.find_elements_by_xpath('//*[@id=\"content-text\"]')\n",
    "        comments = [elem.text for elem in comments]\n",
    "        likes = driver.find_elements_by_id('vote-count-middle') \n",
    "        likes = [elem.text for elem in likes]\n",
    "        driver.close()\n",
    "\n",
    "        data = pd.DataFrame(np.stack([comments, likes], 1), columns = ['comments', 'likes'])\n",
    "        print(data.shape)\n",
    "        name = page_url.split('=')[-1]\n",
    "        path = f'E:\\Project_FireStorm_Data\\Yogi_Data/{name}.csv'\n",
    "        data.to_csv(path, index = False)\n",
    "        print('File Saved...')"
   ]
  }
 ],
 "metadata": {
  "kernelspec": {
   "display_name": "Python 3",
   "language": "python",
   "name": "python3"
  },
  "language_info": {
   "codemirror_mode": {
    "name": "ipython",
    "version": 3
   },
   "file_extension": ".py",
   "mimetype": "text/x-python",
   "name": "python",
   "nbconvert_exporter": "python",
   "pygments_lexer": "ipython3",
   "version": "3.6.5"
  },
  "varInspector": {
   "cols": {
    "lenName": 16,
    "lenType": 16,
    "lenVar": 40
   },
   "kernels_config": {
    "python": {
     "delete_cmd_postfix": "",
     "delete_cmd_prefix": "del ",
     "library": "var_list.py",
     "varRefreshCmd": "print(var_dic_list())"
    },
    "r": {
     "delete_cmd_postfix": ") ",
     "delete_cmd_prefix": "rm(",
     "library": "var_list.r",
     "varRefreshCmd": "cat(var_dic_list()) "
    }
   },
   "types_to_exclude": [
    "module",
    "function",
    "builtin_function_or_method",
    "instance",
    "_Feature"
   ],
   "window_display": false
  }
 },
 "nbformat": 4,
 "nbformat_minor": 2
}
